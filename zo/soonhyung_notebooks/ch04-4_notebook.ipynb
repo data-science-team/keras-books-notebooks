{
 "cells": [
  {
   "cell_type": "markdown",
   "metadata": {},
   "source": [
    "improve network (using ch03-4)"
   ]
  },
  {
   "cell_type": "code",
   "execution_count": 2,
   "metadata": {},
   "outputs": [
    {
     "name": "stdout",
     "output_type": "stream",
     "text": [
      "Collecting keras\n",
      "\u001b[?25l  Downloading https://files.pythonhosted.org/packages/5e/10/aa32dad071ce52b5502266b5c659451cfd6ffcbf14e6c8c4f16c0ff5aaab/Keras-2.2.4-py2.py3-none-any.whl (312kB)\n",
      "\u001b[K     |████████████████████████████████| 317kB 1.1MB/s eta 0:00:01\n",
      "\u001b[?25hRequirement already satisfied: h5py in /opt/conda/lib/python3.7/site-packages (from keras) (2.8.0)\n",
      "Requirement already satisfied: numpy>=1.9.1 in /opt/conda/lib/python3.7/site-packages (from keras) (1.15.1)\n",
      "Requirement already satisfied: six>=1.9.0 in /opt/conda/lib/python3.7/site-packages (from keras) (1.11.0)\n",
      "Requirement already satisfied: pyyaml in /opt/conda/lib/python3.7/site-packages (from keras) (3.13)\n",
      "Requirement already satisfied: scipy>=0.14 in /opt/conda/lib/python3.7/site-packages (from keras) (1.1.0)\n",
      "Requirement already satisfied: keras-applications>=1.0.6 in /opt/conda/lib/python3.7/site-packages (from keras) (1.0.7)\n",
      "Requirement already satisfied: keras-preprocessing>=1.0.5 in /opt/conda/lib/python3.7/site-packages (from keras) (1.0.9)\n",
      "Installing collected packages: keras\n",
      "Successfully installed keras-2.2.4\n"
     ]
    },
    {
     "name": "stderr",
     "output_type": "stream",
     "text": [
      "Using TensorFlow backend.\n"
     ]
    },
    {
     "name": "stdout",
     "output_type": "stream",
     "text": [
      "Downloading data from https://s3.amazonaws.com/text-datasets/imdb.npz\n",
      "17465344/17464789 [==============================] - 3s 0us/step\n"
     ]
    }
   ],
   "source": [
    "!pip install keras\n",
    "import ssl\n",
    "ssl._create_default_https_context = ssl._create_unverified_context\n",
    "\n",
    "from keras.datasets import imdb\n",
    "\n",
    "(train_data, train_labels), (test_data, test_labels) = imdb.load_data(num_words=10000)"
   ]
  },
  {
   "cell_type": "code",
   "execution_count": 3,
   "metadata": {},
   "outputs": [],
   "source": [
    "import numpy as np\n",
    "\n",
    "def vectorize_sequences(sequences, dimension=10000):\n",
    "    # 크기가 (len(sequences), dimension))이고 모든 원소가 0인 행렬을 만듭니다\n",
    "    results = np.zeros((len(sequences), dimension))\n",
    "    for i, sequence in enumerate(sequences):\n",
    "        results[i, sequence] = 1.  # results[i]에서 특정 인덱스의 위치를 1로 만듭니다        \n",
    "    return results\n",
    "\n",
    "# 훈련 데이터를 벡터로 변환합니다\n",
    "x_train = vectorize_sequences(train_data)\n",
    "# 테스트 데이터를 벡터로 변환합니다\n",
    "x_test = vectorize_sequences(test_data)\n",
    "\n",
    "# vectorize label\n",
    "y_train = np.asarray(train_labels).astype('float32')\n",
    "y_test = np.asarray(test_labels).astype('float32')"
   ]
  },
  {
   "cell_type": "code",
   "execution_count": 4,
   "metadata": {},
   "outputs": [],
   "source": [
    "x_val = x_train[:10000]\n",
    "partial_x_train = x_train[10000:]\n",
    "y_val = y_train[:10000]\n",
    "partial_y_train = y_train[10000:]"
   ]
  },
  {
   "cell_type": "markdown",
   "metadata": {},
   "source": [
    "original network (from ch03-4)"
   ]
  },
  {
   "cell_type": "code",
   "execution_count": 5,
   "metadata": {},
   "outputs": [
    {
     "name": "stdout",
     "output_type": "stream",
     "text": [
      "WARNING:tensorflow:From /opt/conda/lib/python3.7/site-packages/tensorflow/python/framework/op_def_library.py:263: colocate_with (from tensorflow.python.framework.ops) is deprecated and will be removed in a future version.\n",
      "Instructions for updating:\n",
      "Colocations handled automatically by placer.\n",
      "WARNING:tensorflow:From /opt/conda/lib/python3.7/site-packages/tensorflow/python/ops/math_ops.py:3066: to_int32 (from tensorflow.python.ops.math_ops) is deprecated and will be removed in a future version.\n",
      "Instructions for updating:\n",
      "Use tf.cast instead.\n",
      "Train on 15000 samples, validate on 10000 samples\n",
      "Epoch 1/20\n",
      "15000/15000 [==============================] - 2s 106us/step - loss: 0.5084 - binary_accuracy: 0.7813 - val_loss: 0.3797 - val_binary_accuracy: 0.8684\n",
      "Epoch 2/20\n",
      "15000/15000 [==============================] - 1s 77us/step - loss: 0.3004 - binary_accuracy: 0.9047 - val_loss: 0.3004 - val_binary_accuracy: 0.8897\n",
      "Epoch 3/20\n",
      "15000/15000 [==============================] - 1s 76us/step - loss: 0.2179 - binary_accuracy: 0.9285 - val_loss: 0.3085 - val_binary_accuracy: 0.8711\n",
      "Epoch 4/20\n",
      "15000/15000 [==============================] - 1s 77us/step - loss: 0.1750 - binary_accuracy: 0.9437 - val_loss: 0.2840 - val_binary_accuracy: 0.8832\n",
      "Epoch 5/20\n",
      "15000/15000 [==============================] - 1s 81us/step - loss: 0.1427 - binary_accuracy: 0.9543 - val_loss: 0.2841 - val_binary_accuracy: 0.8872\n",
      "Epoch 6/20\n",
      "15000/15000 [==============================] - 1s 70us/step - loss: 0.1150 - binary_accuracy: 0.9650 - val_loss: 0.3166 - val_binary_accuracy: 0.8772\n",
      "Epoch 7/20\n",
      "15000/15000 [==============================] - 1s 79us/step - loss: 0.0980 - binary_accuracy: 0.9705 - val_loss: 0.3127 - val_binary_accuracy: 0.8846\n",
      "Epoch 8/20\n",
      "15000/15000 [==============================] - 1s 78us/step - loss: 0.0807 - binary_accuracy: 0.9763 - val_loss: 0.3859 - val_binary_accuracy: 0.8649\n",
      "Epoch 9/20\n",
      "15000/15000 [==============================] - 1s 73us/step - loss: 0.0661 - binary_accuracy: 0.9821 - val_loss: 0.3635 - val_binary_accuracy: 0.8782\n",
      "Epoch 10/20\n",
      "15000/15000 [==============================] - 1s 75us/step - loss: 0.0561 - binary_accuracy: 0.9853 - val_loss: 0.3842 - val_binary_accuracy: 0.8792\n",
      "Epoch 11/20\n",
      "15000/15000 [==============================] - 1s 71us/step - loss: 0.0439 - binary_accuracy: 0.9893 - val_loss: 0.4153 - val_binary_accuracy: 0.8779\n",
      "Epoch 12/20\n",
      "15000/15000 [==============================] - 1s 67us/step - loss: 0.0381 - binary_accuracy: 0.9921 - val_loss: 0.4525 - val_binary_accuracy: 0.8690\n",
      "Epoch 13/20\n",
      "15000/15000 [==============================] - 1s 68us/step - loss: 0.0300 - binary_accuracy: 0.9928 - val_loss: 0.4699 - val_binary_accuracy: 0.8729\n",
      "Epoch 14/20\n",
      "15000/15000 [==============================] - 1s 67us/step - loss: 0.0247 - binary_accuracy: 0.9945 - val_loss: 0.5023 - val_binary_accuracy: 0.8726\n",
      "Epoch 15/20\n",
      "15000/15000 [==============================] - 1s 68us/step - loss: 0.0175 - binary_accuracy: 0.9979 - val_loss: 0.5341 - val_binary_accuracy: 0.8693\n",
      "Epoch 16/20\n",
      "15000/15000 [==============================] - 1s 70us/step - loss: 0.0149 - binary_accuracy: 0.9983 - val_loss: 0.5710 - val_binary_accuracy: 0.8697\n",
      "Epoch 17/20\n",
      "15000/15000 [==============================] - 1s 69us/step - loss: 0.0151 - binary_accuracy: 0.9971 - val_loss: 0.6024 - val_binary_accuracy: 0.8697\n",
      "Epoch 18/20\n",
      "15000/15000 [==============================] - 1s 68us/step - loss: 0.0075 - binary_accuracy: 0.9996 - val_loss: 0.6781 - val_binary_accuracy: 0.8633\n",
      "Epoch 19/20\n",
      "15000/15000 [==============================] - 1s 68us/step - loss: 0.0117 - binary_accuracy: 0.9975 - val_loss: 0.6690 - val_binary_accuracy: 0.8673\n",
      "Epoch 20/20\n",
      "15000/15000 [==============================] - 1s 67us/step - loss: 0.0041 - binary_accuracy: 0.9999 - val_loss: 0.6941 - val_binary_accuracy: 0.8657\n",
      "25000/25000 [==============================] - 1s 52us/step\n",
      "[0.7696778268504143, 0.84956]\n"
     ]
    }
   ],
   "source": [
    "from keras import *\n",
    "\n",
    "model = models.Sequential()\n",
    "model.add(layers.Dense(16, activation='relu', input_shape=(10000, )) )\n",
    "model.add(layers.Dense(16, activation='relu') )\n",
    "model.add(layers.Dense(1, activation=activations.sigmoid) )\n",
    "\n",
    "# use function\n",
    "model.compile(optimizer=optimizers.RMSprop(),\n",
    "                loss=losses.binary_crossentropy,\n",
    "#                 loss=losses.mse,\n",
    "                metrics=[metrics.binary_accuracy]\n",
    "               )\n",
    "\n",
    "# learning\n",
    "tb_hist = callbacks.TensorBoard(log_dir='./graph', histogram_freq=0, write_graph=True, write_images=True)\n",
    "\n",
    "hist = model.fit(partial_x_train, partial_y_train, \n",
    "                    batch_size=512, \n",
    "                    epochs=20,\n",
    "                    validation_data=(x_val, y_val),\n",
    "                     callbacks=[tb_hist]                 \n",
    "                  )\n",
    "\n",
    "result = model.evaluate(x_test, y_test)\n",
    "print(result)\n",
    "\n"
   ]
  },
  {
   "cell_type": "markdown",
   "metadata": {},
   "source": [
    "## network scaling"
   ]
  },
  {
   "cell_type": "markdown",
   "metadata": {},
   "source": [
    "try make new network (as small network)"
   ]
  },
  {
   "cell_type": "code",
   "execution_count": 6,
   "metadata": {},
   "outputs": [
    {
     "name": "stdout",
     "output_type": "stream",
     "text": [
      "Train on 15000 samples, validate on 10000 samples\n",
      "Epoch 1/20\n",
      "15000/15000 [==============================] - 1s 76us/step - loss: 0.6183 - binary_accuracy: 0.7365 - val_loss: 0.5501 - val_binary_accuracy: 0.8465\n",
      "Epoch 2/20\n",
      "15000/15000 [==============================] - 1s 66us/step - loss: 0.4752 - binary_accuracy: 0.8765 - val_loss: 0.4378 - val_binary_accuracy: 0.8642\n",
      "Epoch 3/20\n",
      "15000/15000 [==============================] - 1s 68us/step - loss: 0.3728 - binary_accuracy: 0.8986 - val_loss: 0.3675 - val_binary_accuracy: 0.8776\n",
      "Epoch 4/20\n",
      "15000/15000 [==============================] - 1s 67us/step - loss: 0.2989 - binary_accuracy: 0.9129 - val_loss: 0.3323 - val_binary_accuracy: 0.8731\n",
      "Epoch 5/20\n",
      "15000/15000 [==============================] - 1s 67us/step - loss: 0.2483 - binary_accuracy: 0.9242 - val_loss: 0.2963 - val_binary_accuracy: 0.8885\n",
      "Epoch 6/20\n",
      "15000/15000 [==============================] - 1s 68us/step - loss: 0.2114 - binary_accuracy: 0.9364 - val_loss: 0.2817 - val_binary_accuracy: 0.8911\n",
      "Epoch 7/20\n",
      "15000/15000 [==============================] - 1s 67us/step - loss: 0.1829 - binary_accuracy: 0.9439 - val_loss: 0.2790 - val_binary_accuracy: 0.8887\n",
      "Epoch 8/20\n",
      "15000/15000 [==============================] - 1s 68us/step - loss: 0.1602 - binary_accuracy: 0.9498 - val_loss: 0.2727 - val_binary_accuracy: 0.8931\n",
      "Epoch 9/20\n",
      "15000/15000 [==============================] - 1s 68us/step - loss: 0.1403 - binary_accuracy: 0.9575 - val_loss: 0.2761 - val_binary_accuracy: 0.8920\n",
      "Epoch 10/20\n",
      "15000/15000 [==============================] - 1s 68us/step - loss: 0.1236 - binary_accuracy: 0.9629 - val_loss: 0.2900 - val_binary_accuracy: 0.8869\n",
      "Epoch 11/20\n",
      "15000/15000 [==============================] - 1s 67us/step - loss: 0.1098 - binary_accuracy: 0.9679 - val_loss: 0.2912 - val_binary_accuracy: 0.8871\n",
      "Epoch 12/20\n",
      "15000/15000 [==============================] - 1s 67us/step - loss: 0.0962 - binary_accuracy: 0.9735 - val_loss: 0.3082 - val_binary_accuracy: 0.8837\n",
      "Epoch 13/20\n",
      "15000/15000 [==============================] - 1s 67us/step - loss: 0.0856 - binary_accuracy: 0.9767 - val_loss: 0.3135 - val_binary_accuracy: 0.8839\n",
      "Epoch 14/20\n",
      "15000/15000 [==============================] - 1s 67us/step - loss: 0.0756 - binary_accuracy: 0.9799 - val_loss: 0.3267 - val_binary_accuracy: 0.8829\n",
      "Epoch 15/20\n",
      "15000/15000 [==============================] - 1s 73us/step - loss: 0.0662 - binary_accuracy: 0.9831 - val_loss: 0.3471 - val_binary_accuracy: 0.8820\n",
      "Epoch 16/20\n",
      "15000/15000 [==============================] - 1s 68us/step - loss: 0.0579 - binary_accuracy: 0.9858 - val_loss: 0.3727 - val_binary_accuracy: 0.8767\n",
      "Epoch 17/20\n",
      "15000/15000 [==============================] - 1s 66us/step - loss: 0.0505 - binary_accuracy: 0.9891 - val_loss: 0.3796 - val_binary_accuracy: 0.8801\n",
      "Epoch 18/20\n",
      "15000/15000 [==============================] - 1s 67us/step - loss: 0.0440 - binary_accuracy: 0.9907 - val_loss: 0.4045 - val_binary_accuracy: 0.8748\n",
      "Epoch 19/20\n",
      "15000/15000 [==============================] - 1s 67us/step - loss: 0.0378 - binary_accuracy: 0.9919 - val_loss: 0.4235 - val_binary_accuracy: 0.8776\n",
      "Epoch 20/20\n",
      "15000/15000 [==============================] - 1s 67us/step - loss: 0.0322 - binary_accuracy: 0.9937 - val_loss: 0.4427 - val_binary_accuracy: 0.8741\n",
      "25000/25000 [==============================] - 1s 50us/step\n",
      "[0.4877500710940361, 0.86072]\n"
     ]
    }
   ],
   "source": [
    "from keras import *\n",
    "\n",
    "model = models.Sequential()\n",
    "model.add(layers.Dense(6, activation='relu', input_shape=(10000, )) )\n",
    "model.add(layers.Dense(6, activation='relu') )\n",
    "model.add(layers.Dense(1, activation=activations.sigmoid) )\n",
    "\n",
    "# use function\n",
    "model.compile(optimizer=optimizers.RMSprop(),\n",
    "                loss=losses.binary_crossentropy,\n",
    "#                 loss=losses.mse,\n",
    "                metrics=[metrics.binary_accuracy]\n",
    "               )\n",
    "\n",
    "# learning\n",
    "tb_hist = callbacks.TensorBoard(log_dir='./graph', histogram_freq=0, write_graph=True, write_images=True,)\n",
    "\n",
    "hist = model.fit(partial_x_train, partial_y_train, \n",
    "                    batch_size=512, \n",
    "                    epochs=20,\n",
    "                    validation_data=(x_val, y_val),\n",
    "                     callbacks=[tb_hist]                 \n",
    "                  )\n",
    "\n",
    "result = model.evaluate(x_test, y_test)\n",
    "print(result)\n",
    "\n"
   ]
  },
  {
   "cell_type": "markdown",
   "metadata": {},
   "source": [
    "try make new network (as big network)"
   ]
  },
  {
   "cell_type": "code",
   "execution_count": 7,
   "metadata": {},
   "outputs": [
    {
     "name": "stdout",
     "output_type": "stream",
     "text": [
      "Train on 15000 samples, validate on 10000 samples\n",
      "Epoch 1/20\n",
      "15000/15000 [==============================] - 1s 87us/step - loss: 0.6839 - binary_accuracy: 0.7507 - val_loss: 0.3453 - val_binary_accuracy: 0.8602\n",
      "Epoch 2/20\n",
      "15000/15000 [==============================] - 1s 80us/step - loss: 0.2504 - binary_accuracy: 0.9033 - val_loss: 0.2816 - val_binary_accuracy: 0.8919\n",
      "Epoch 3/20\n",
      "15000/15000 [==============================] - 1s 95us/step - loss: 0.1093 - binary_accuracy: 0.9616 - val_loss: 0.3244 - val_binary_accuracy: 0.8874\n",
      "Epoch 4/20\n",
      "15000/15000 [==============================] - 1s 82us/step - loss: 0.1308 - binary_accuracy: 0.9702 - val_loss: 0.4045 - val_binary_accuracy: 0.8873\n",
      "Epoch 5/20\n",
      "15000/15000 [==============================] - 1s 79us/step - loss: 0.0027 - binary_accuracy: 0.9997 - val_loss: 0.4652 - val_binary_accuracy: 0.8909\n",
      "Epoch 6/20\n",
      "15000/15000 [==============================] - 1s 79us/step - loss: 2.6524e-04 - binary_accuracy: 0.9999 - val_loss: 0.7348 - val_binary_accuracy: 0.8693\n",
      "Epoch 7/20\n",
      "15000/15000 [==============================] - 1s 84us/step - loss: 0.2203 - binary_accuracy: 0.9723 - val_loss: 0.4996 - val_binary_accuracy: 0.8858\n",
      "Epoch 8/20\n",
      "15000/15000 [==============================] - 1s 94us/step - loss: 1.3568e-04 - binary_accuracy: 1.0000 - val_loss: 0.5778 - val_binary_accuracy: 0.8836\n",
      "Epoch 9/20\n",
      "15000/15000 [==============================] - 1s 83us/step - loss: 2.9735e-05 - binary_accuracy: 1.0000 - val_loss: 0.6284 - val_binary_accuracy: 0.8829\n",
      "Epoch 10/20\n",
      "15000/15000 [==============================] - 1s 78us/step - loss: 9.0102e-06 - binary_accuracy: 1.0000 - val_loss: 0.6518 - val_binary_accuracy: 0.8868\n",
      "Epoch 11/20\n",
      "15000/15000 [==============================] - 1s 84us/step - loss: 2.9208e-06 - binary_accuracy: 1.0000 - val_loss: 0.7061 - val_binary_accuracy: 0.8868\n",
      "Epoch 12/20\n",
      "15000/15000 [==============================] - 1s 84us/step - loss: 1.0223e-06 - binary_accuracy: 1.0000 - val_loss: 0.7528 - val_binary_accuracy: 0.8876\n",
      "Epoch 13/20\n",
      "15000/15000 [==============================] - 1s 83us/step - loss: 4.1210e-07 - binary_accuracy: 1.0000 - val_loss: 0.8048 - val_binary_accuracy: 0.8873\n",
      "Epoch 14/20\n",
      "15000/15000 [==============================] - 1s 83us/step - loss: 2.1300e-07 - binary_accuracy: 1.0000 - val_loss: 0.8461 - val_binary_accuracy: 0.8872\n",
      "Epoch 15/20\n",
      "15000/15000 [==============================] - 1s 97us/step - loss: 1.4530e-07 - binary_accuracy: 1.0000 - val_loss: 0.8685 - val_binary_accuracy: 0.8888\n",
      "Epoch 16/20\n",
      "15000/15000 [==============================] - 1s 84us/step - loss: 1.2466e-07 - binary_accuracy: 1.0000 - val_loss: 0.8854 - val_binary_accuracy: 0.8883\n",
      "Epoch 17/20\n",
      "15000/15000 [==============================] - 1s 80us/step - loss: 1.1753e-07 - binary_accuracy: 1.0000 - val_loss: 0.8957 - val_binary_accuracy: 0.8883\n",
      "Epoch 18/20\n",
      "15000/15000 [==============================] - 1s 97us/step - loss: 1.1444e-07 - binary_accuracy: 1.0000 - val_loss: 0.9039 - val_binary_accuracy: 0.8882\n",
      "Epoch 19/20\n",
      "15000/15000 [==============================] - 1s 82us/step - loss: 1.1294e-07 - binary_accuracy: 1.0000 - val_loss: 0.9078 - val_binary_accuracy: 0.8885\n",
      "Epoch 20/20\n",
      "15000/15000 [==============================] - 1s 80us/step - loss: 1.1219e-07 - binary_accuracy: 1.0000 - val_loss: 0.9134 - val_binary_accuracy: 0.8882\n",
      "25000/25000 [==============================] - 1s 54us/step\n",
      "[0.9941096028241143, 0.87748]\n"
     ]
    }
   ],
   "source": [
    "from keras import *\n",
    "\n",
    "model = models.Sequential()\n",
    "model.add(layers.Dense(1024, activation='relu', input_shape=(10000, )) )\n",
    "model.add(layers.Dense(1024, activation='relu') )\n",
    "model.add(layers.Dense(1, activation=activations.sigmoid) )\n",
    "\n",
    "# use function\n",
    "model.compile(optimizer=optimizers.RMSprop(),\n",
    "                loss=losses.binary_crossentropy,\n",
    "#                 loss=losses.mse,\n",
    "                metrics=[metrics.binary_accuracy]\n",
    "               )\n",
    "\n",
    "# learning\n",
    "tb_hist = callbacks.TensorBoard(log_dir='./graph', histogram_freq=0, write_graph=True, write_images=True,)\n",
    "\n",
    "hist = model.fit(partial_x_train, partial_y_train, \n",
    "                    batch_size=512, \n",
    "                    epochs=20,\n",
    "                    validation_data=(x_val, y_val),\n",
    "                     callbacks=[tb_hist]                 \n",
    "                  )\n",
    "\n",
    "result = model.evaluate(x_test, y_test)\n",
    "print(result)\n",
    "\n"
   ]
  },
  {
   "cell_type": "markdown",
   "metadata": {},
   "source": [
    "## 4.4.2 adding Regularization"
   ]
  },
  {
   "cell_type": "raw",
   "metadata": {},
   "source": [
    "see below. Do use regularizer options to original Network.\n",
    "\n",
    "note.\n",
    "- from keras import regularizers\n",
    "- kernel_regularizer"
   ]
  },
  {
   "cell_type": "code",
   "execution_count": 8,
   "metadata": {},
   "outputs": [
    {
     "name": "stdout",
     "output_type": "stream",
     "text": [
      "Train on 15000 samples, validate on 10000 samples\n",
      "Epoch 1/20\n",
      "15000/15000 [==============================] - 1s 94us/step - loss: 0.5700 - binary_accuracy: 0.7876 - val_loss: 0.4846 - val_binary_accuracy: 0.8243\n",
      "Epoch 2/20\n",
      "15000/15000 [==============================] - 1s 80us/step - loss: 0.3755 - binary_accuracy: 0.8954 - val_loss: 0.3678 - val_binary_accuracy: 0.8756\n",
      "Epoch 3/20\n",
      "15000/15000 [==============================] - 1s 78us/step - loss: 0.2948 - binary_accuracy: 0.9184 - val_loss: 0.3354 - val_binary_accuracy: 0.8882\n",
      "Epoch 4/20\n",
      "15000/15000 [==============================] - 1s 74us/step - loss: 0.2553 - binary_accuracy: 0.9304 - val_loss: 0.3374 - val_binary_accuracy: 0.8826\n",
      "Epoch 5/20\n",
      "15000/15000 [==============================] - 1s 69us/step - loss: 0.2337 - binary_accuracy: 0.9399 - val_loss: 0.3418 - val_binary_accuracy: 0.8823\n",
      "Epoch 6/20\n",
      "15000/15000 [==============================] - 1s 76us/step - loss: 0.2180 - binary_accuracy: 0.9466 - val_loss: 0.3330 - val_binary_accuracy: 0.8848\n",
      "Epoch 7/20\n",
      "15000/15000 [==============================] - 1s 81us/step - loss: 0.2031 - binary_accuracy: 0.9526 - val_loss: 0.3396 - val_binary_accuracy: 0.8857\n",
      "Epoch 8/20\n",
      "15000/15000 [==============================] - 1s 82us/step - loss: 0.1958 - binary_accuracy: 0.9548 - val_loss: 0.3471 - val_binary_accuracy: 0.8836\n",
      "Epoch 9/20\n",
      "15000/15000 [==============================] - 1s 74us/step - loss: 0.1888 - binary_accuracy: 0.9581 - val_loss: 0.3553 - val_binary_accuracy: 0.8834\n",
      "Epoch 10/20\n",
      "15000/15000 [==============================] - 1s 69us/step - loss: 0.1795 - binary_accuracy: 0.9600 - val_loss: 0.3686 - val_binary_accuracy: 0.8758\n",
      "Epoch 11/20\n",
      "15000/15000 [==============================] - 1s 69us/step - loss: 0.1729 - binary_accuracy: 0.9655 - val_loss: 0.3794 - val_binary_accuracy: 0.8815\n",
      "Epoch 12/20\n",
      "15000/15000 [==============================] - 1s 69us/step - loss: 0.1684 - binary_accuracy: 0.9669 - val_loss: 0.3762 - val_binary_accuracy: 0.8786\n",
      "Epoch 13/20\n",
      "15000/15000 [==============================] - 1s 68us/step - loss: 0.1650 - binary_accuracy: 0.9663 - val_loss: 0.3917 - val_binary_accuracy: 0.8739\n",
      "Epoch 14/20\n",
      "15000/15000 [==============================] - 1s 74us/step - loss: 0.1566 - binary_accuracy: 0.9717 - val_loss: 0.3911 - val_binary_accuracy: 0.8761\n",
      "Epoch 15/20\n",
      "15000/15000 [==============================] - 1s 75us/step - loss: 0.1573 - binary_accuracy: 0.9699 - val_loss: 0.4021 - val_binary_accuracy: 0.8730\n",
      "Epoch 16/20\n",
      "15000/15000 [==============================] - 1s 71us/step - loss: 0.1528 - binary_accuracy: 0.9716 - val_loss: 0.4124 - val_binary_accuracy: 0.8695\n",
      "Epoch 17/20\n",
      "15000/15000 [==============================] - 1s 75us/step - loss: 0.1470 - binary_accuracy: 0.9749 - val_loss: 0.4599 - val_binary_accuracy: 0.8634\n",
      "Epoch 18/20\n",
      "15000/15000 [==============================] - 1s 85us/step - loss: 0.1426 - binary_accuracy: 0.9759 - val_loss: 0.4471 - val_binary_accuracy: 0.8705\n",
      "Epoch 19/20\n",
      "15000/15000 [==============================] - 1s 88us/step - loss: 0.1432 - binary_accuracy: 0.9762 - val_loss: 0.4283 - val_binary_accuracy: 0.8693\n",
      "Epoch 20/20\n",
      "15000/15000 [==============================] - 1s 89us/step - loss: 0.1357 - binary_accuracy: 0.9797 - val_loss: 0.4272 - val_binary_accuracy: 0.8740\n",
      "25000/25000 [==============================] - 2s 75us/step\n",
      "[0.4532363532924652, 0.86388]\n"
     ]
    }
   ],
   "source": [
    "from keras import *\n",
    "from keras import regularizers\n",
    "\n",
    "model = models.Sequential()\n",
    "model.add(layers.Dense(16, activation='relu', kernel_regularizer=regularizers.l2(0.001), input_shape=(10000, )) )\n",
    "model.add(layers.Dense(16, activation='relu', kernel_regularizer=regularizers.l2(0.001)) )\n",
    "model.add(layers.Dense(1, activation=activations.sigmoid) )\n",
    "\n",
    "# use function\n",
    "model.compile(optimizer=optimizers.RMSprop(),\n",
    "                loss=losses.binary_crossentropy,\n",
    "#                 loss=losses.mse,\n",
    "                metrics=[metrics.binary_accuracy]\n",
    "               )\n",
    "\n",
    "# learning\n",
    "tb_hist = callbacks.TensorBoard(log_dir='./graph', histogram_freq=0, write_graph=True, write_images=True)\n",
    "\n",
    "hist = model.fit(partial_x_train, partial_y_train, \n",
    "                    batch_size=512, \n",
    "                    epochs=20,\n",
    "                    validation_data=(x_val, y_val),\n",
    "                     callbacks=[tb_hist]                 \n",
    "                  )\n",
    "\n",
    "result = model.evaluate(x_test, y_test)\n",
    "print(result)\n",
    "\n"
   ]
  },
  {
   "cell_type": "markdown",
   "metadata": {},
   "source": [
    "## 4.4.3 dropout"
   ]
  },
  {
   "cell_type": "code",
   "execution_count": 14,
   "metadata": {},
   "outputs": [
    {
     "name": "stdout",
     "output_type": "stream",
     "text": [
      "WARNING:tensorflow:From /home/boom109/anaconda3/lib/python3.7/site-packages/keras/backend/tensorflow_backend.py:3445: calling dropout (from tensorflow.python.ops.nn_ops) with keep_prob is deprecated and will be removed in a future version.\n",
      "Instructions for updating:\n",
      "Please use `rate` instead of `keep_prob`. Rate should be set to `rate = 1 - keep_prob`.\n",
      "Train on 15000 samples, validate on 10000 samples\n",
      "Epoch 1/20\n",
      "15000/15000 [==============================] - 1s 76us/step - loss: 0.6322 - binary_accuracy: 0.6286 - val_loss: 0.5393 - val_binary_accuracy: 0.8421\n",
      "Epoch 2/20\n",
      "15000/15000 [==============================] - 1s 64us/step - loss: 0.5108 - binary_accuracy: 0.7688 - val_loss: 0.4184 - val_binary_accuracy: 0.8708\n",
      "Epoch 3/20\n",
      "15000/15000 [==============================] - 1s 64us/step - loss: 0.4294 - binary_accuracy: 0.8243 - val_loss: 0.3524 - val_binary_accuracy: 0.8796\n",
      "Epoch 4/20\n",
      "15000/15000 [==============================] - 1s 64us/step - loss: 0.3673 - binary_accuracy: 0.8559 - val_loss: 0.3119 - val_binary_accuracy: 0.8865\n",
      "Epoch 5/20\n",
      "15000/15000 [==============================] - 1s 64us/step - loss: 0.3199 - binary_accuracy: 0.8809 - val_loss: 0.2860 - val_binary_accuracy: 0.8910\n",
      "Epoch 6/20\n",
      "15000/15000 [==============================] - 1s 64us/step - loss: 0.2800 - binary_accuracy: 0.8999 - val_loss: 0.2730 - val_binary_accuracy: 0.8917\n",
      "Epoch 7/20\n",
      "15000/15000 [==============================] - 1s 65us/step - loss: 0.2420 - binary_accuracy: 0.9117 - val_loss: 0.2762 - val_binary_accuracy: 0.8909\n",
      "Epoch 8/20\n",
      "15000/15000 [==============================] - 1s 65us/step - loss: 0.2203 - binary_accuracy: 0.9229 - val_loss: 0.2795 - val_binary_accuracy: 0.8933\n",
      "Epoch 9/20\n",
      "15000/15000 [==============================] - 1s 65us/step - loss: 0.1970 - binary_accuracy: 0.9321 - val_loss: 0.2969 - val_binary_accuracy: 0.8876\n",
      "Epoch 10/20\n",
      "15000/15000 [==============================] - 1s 65us/step - loss: 0.1772 - binary_accuracy: 0.9397 - val_loss: 0.3054 - val_binary_accuracy: 0.8896\n",
      "Epoch 11/20\n",
      "15000/15000 [==============================] - 1s 64us/step - loss: 0.1606 - binary_accuracy: 0.9442 - val_loss: 0.3188 - val_binary_accuracy: 0.8867\n",
      "Epoch 12/20\n",
      "15000/15000 [==============================] - 1s 65us/step - loss: 0.1454 - binary_accuracy: 0.9513 - val_loss: 0.3475 - val_binary_accuracy: 0.8881\n",
      "Epoch 13/20\n",
      "15000/15000 [==============================] - 1s 67us/step - loss: 0.1263 - binary_accuracy: 0.9601 - val_loss: 0.3866 - val_binary_accuracy: 0.8819\n",
      "Epoch 14/20\n",
      "15000/15000 [==============================] - 1s 70us/step - loss: 0.1243 - binary_accuracy: 0.9568 - val_loss: 0.3932 - val_binary_accuracy: 0.8876\n",
      "Epoch 15/20\n",
      "15000/15000 [==============================] - 1s 68us/step - loss: 0.1147 - binary_accuracy: 0.9628 - val_loss: 0.4220 - val_binary_accuracy: 0.8791\n",
      "Epoch 16/20\n",
      "15000/15000 [==============================] - 1s 68us/step - loss: 0.1059 - binary_accuracy: 0.9655 - val_loss: 0.4103 - val_binary_accuracy: 0.8875\n",
      "Epoch 17/20\n",
      "15000/15000 [==============================] - 1s 67us/step - loss: 0.0964 - binary_accuracy: 0.9688 - val_loss: 0.4574 - val_binary_accuracy: 0.8850\n",
      "Epoch 18/20\n",
      "15000/15000 [==============================] - 1s 66us/step - loss: 0.0921 - binary_accuracy: 0.9683 - val_loss: 0.4939 - val_binary_accuracy: 0.8813\n",
      "Epoch 19/20\n",
      "15000/15000 [==============================] - 1s 66us/step - loss: 0.0895 - binary_accuracy: 0.9700 - val_loss: 0.5007 - val_binary_accuracy: 0.8834\n",
      "Epoch 20/20\n",
      "15000/15000 [==============================] - 1s 66us/step - loss: 0.0808 - binary_accuracy: 0.9734 - val_loss: 0.5484 - val_binary_accuracy: 0.8815\n",
      "25000/25000 [==============================] - 1s 33us/step\n",
      "[0.5947406792998314, 0.87032]\n"
     ]
    }
   ],
   "source": [
    "from keras import *\n",
    "\n",
    "model = models.Sequential()\n",
    "model.add(layers.Dense(16, activation='relu', input_shape=(10000, )) )\n",
    "model.add(layers.Dropout(0.5))\n",
    "model.add(layers.Dense(16, activation='relu') )\n",
    "model.add(layers.Dropout(0.5))\n",
    "model.add(layers.Dense(1, activation=activations.sigmoid) )\n",
    "\n",
    "# use function\n",
    "model.compile(optimizer=optimizers.RMSprop(),\n",
    "                loss=losses.binary_crossentropy,\n",
    "#                 loss=losses.mse,\n",
    "                metrics=[metrics.binary_accuracy]\n",
    "               )\n",
    "\n",
    "# learning\n",
    "tb_hist = callbacks.TensorBoard(log_dir='./graph', histogram_freq=0, write_graph=True, write_images=True)\n",
    "\n",
    "hist = model.fit(partial_x_train, partial_y_train, \n",
    "                    batch_size=512, \n",
    "                    epochs=20,\n",
    "                    validation_data=(x_val, y_val),\n",
    "                     callbacks=[tb_hist]                 \n",
    "                  )\n",
    "\n",
    "result = model.evaluate(x_test, y_test)\n",
    "print(result)\n",
    "\n"
   ]
  },
  {
   "cell_type": "code",
   "execution_count": null,
   "metadata": {},
   "outputs": [],
   "source": []
  }
 ],
 "metadata": {
  "kernelspec": {
   "display_name": "Python 3",
   "language": "python",
   "name": "python3"
  },
  "language_info": {
   "codemirror_mode": {
    "name": "ipython",
    "version": 3
   },
   "file_extension": ".py",
   "mimetype": "text/x-python",
   "name": "python",
   "nbconvert_exporter": "python",
   "pygments_lexer": "ipython3",
   "version": "3.7.2"
  }
 },
 "nbformat": 4,
 "nbformat_minor": 2
}
